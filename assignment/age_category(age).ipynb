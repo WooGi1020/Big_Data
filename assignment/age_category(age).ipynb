{
 "cells": [
  {
   "cell_type": "code",
   "execution_count": 43,
   "id": "052280d1-a368-45be-b926-4a41085b74b1",
   "metadata": {},
   "outputs": [],
   "source": [
    "# [+] SparkSession 설정\n",
    "from pyspark.sql import SparkSession\n",
    "\n",
    "spark = SparkSession.builder.master('local').appName('udf').getOrCreate()"
   ]
  },
  {
   "cell_type": "code",
   "execution_count": 44,
   "id": "514fe73f-c552-40df-a6aa-03693924f350",
   "metadata": {},
   "outputs": [],
   "source": [
    "# 샘플 데이터: 무작위 이름과 나이\n",
    "name_and_age = [\n",
    "    ('정진하', 24),\n",
    "    ('남궁광훈', 31),\n",
    "    ('박춘자', 65),\n",
    "    ('홍현숙', 45),\n",
    "    ('봉희경', 35),\n",
    "    ('탁시욱', 54),\n",
    "    ('조태윤', 25)\n",
    "]"
   ]
  },
  {
   "cell_type": "code",
   "execution_count": 45,
   "id": "c8a3a8e5-5382-4757-8f4b-57f52110658c",
   "metadata": {},
   "outputs": [],
   "source": [
    "# [+] 스키마 정의\n",
    "schema =['name', 'age']"
   ]
  },
  {
   "cell_type": "code",
   "execution_count": 46,
   "id": "36c60863-99f1-4fdf-a6f0-6d824d2c7545",
   "metadata": {},
   "outputs": [],
   "source": [
    "# [+] 데이터프레임 생성\n",
    "df = spark.createDataFrame(data = name_and_age, schema = schema)"
   ]
  },
  {
   "cell_type": "code",
   "execution_count": 47,
   "id": "305437bc-cd23-4382-b081-9eac91ebfd06",
   "metadata": {},
   "outputs": [
    {
     "name": "stdout",
     "output_type": "stream",
     "text": [
      "+--------+---+\n",
      "|    name|age|\n",
      "+--------+---+\n",
      "|  정진하| 24|\n",
      "|남궁광훈| 31|\n",
      "|  박춘자| 65|\n",
      "|  홍현숙| 45|\n",
      "|  봉희경| 35|\n",
      "|  탁시욱| 54|\n",
      "|  조태윤| 25|\n",
      "+--------+---+\n",
      "\n"
     ]
    }
   ],
   "source": [
    "df.show()"
   ]
  },
  {
   "cell_type": "code",
   "execution_count": 48,
   "id": "2bf23d62-9a81-45ec-b08a-c7f4d96b00f4",
   "metadata": {},
   "outputs": [
    {
     "name": "stdout",
     "output_type": "stream",
     "text": [
      "root\n",
      " |-- name: string (nullable = true)\n",
      " |-- age: long (nullable = true)\n",
      "\n"
     ]
    }
   ],
   "source": [
    "# [+] 데이터프레임 스키마 출력\n",
    "df.printSchema()"
   ]
  },
  {
   "cell_type": "code",
   "execution_count": 49,
   "id": "8c191586-dde5-49a1-97af-3171270a3abc",
   "metadata": {},
   "outputs": [],
   "source": [
    "# [+] Temporary View 생성\n",
    "df.createOrReplaceTempView('nameage')"
   ]
  },
  {
   "cell_type": "code",
   "execution_count": 50,
   "id": "0e03ca41-4a30-4282-8965-550b68502c81",
   "metadata": {},
   "outputs": [],
   "source": [
    "# Annotation 방식으로 UDF 등록하기\n",
    "from pyspark.sql.functions import udf"
   ]
  },
  {
   "cell_type": "code",
   "execution_count": 51,
   "id": "489c8ab7-b516-4d89-854f-50fbad8c8b67",
   "metadata": {},
   "outputs": [],
   "source": [
    "# UDF : 나이별 범주 생성 함수\n",
    "def age_category(age):\n",
    "    if age < 35:\n",
    "        return 'young'\n",
    "    elif 35 <= age <= 59:\n",
    "        return 'adult'\n",
    "    else:\n",
    "        return 'senior'"
   ]
  },
  {
   "cell_type": "code",
   "execution_count": 61,
   "id": "2bc22050-d494-4ffd-aed5-cd0c5b491fb0",
   "metadata": {},
   "outputs": [
    {
     "data": {
      "text/plain": [
       "<function __main__.age_category(age)>"
      ]
     },
     "execution_count": 61,
     "metadata": {},
     "output_type": "execute_result"
    }
   ],
   "source": [
    "# udf 등록\n",
    "spark.udf.register(\"age_category\", age_category)"
   ]
  },
  {
   "cell_type": "code",
   "execution_count": 62,
   "id": "b90d8ce0-513b-4b46-8715-df2639bdd453",
   "metadata": {},
   "outputs": [
    {
     "name": "stdout",
     "output_type": "stream",
     "text": [
      "+--------+------------+\n",
      "|    name|age_category|\n",
      "+--------+------------+\n",
      "|  정진하|       young|\n",
      "|남궁광훈|       young|\n",
      "|  박춘자|      senior|\n",
      "|  홍현숙|       adult|\n",
      "|  봉희경|       adult|\n",
      "|  탁시욱|       adult|\n",
      "|  조태윤|       young|\n",
      "+--------+------------+\n",
      "\n"
     ]
    }
   ],
   "source": [
    "# SQL문 처리\n",
    "spark.sql(\"SELECT name, age_category(age) AS age_category FROM nameage\").show()"
   ]
  }
 ],
 "metadata": {
  "kernelspec": {
   "display_name": "Python 3 (ipykernel)",
   "language": "python",
   "name": "python3"
  },
  "language_info": {
   "codemirror_mode": {
    "name": "ipython",
    "version": 3
   },
   "file_extension": ".py",
   "mimetype": "text/x-python",
   "name": "python",
   "nbconvert_exporter": "python",
   "pygments_lexer": "ipython3",
   "version": "3.9.13"
  }
 },
 "nbformat": 4,
 "nbformat_minor": 5
}
